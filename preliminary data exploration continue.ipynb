{
 "cells": [
  {
   "cell_type": "code",
   "execution_count": 45,
   "metadata": {
    "collapsed": true
   },
   "outputs": [],
   "source": [
    "#import libraries \n",
    "%matplotlib inline\n",
    "import pandas as pd\n",
    "import matplotlib.pyplot as plt\n",
    "import numpy as np"
   ]
  },
  {
   "cell_type": "code",
   "execution_count": 3,
   "metadata": {},
   "outputs": [
    {
     "data": {
      "text/plain": [
       "-9                                                                                 121674\n",
       "nobel                                                                                 125\n",
       "2002 Award for Meritorious Contributions to Neuropathology                              3\n",
       "Nobel                                                                                   2\n",
       "2000 Award for Meritorious Contributions to Neuropathology 1992 AANP President          1\n",
       "2006 ISNV Pioneer in NeuroVirology Award                                                1\n",
       "2011 AANP President                                                                     1\n",
       "National Medal of Science                                                               1\n",
       "2009 Award for Meritorious Contributions to Neuropathology                              1\n",
       "1991 Award for Meritorious Contributions to Neuropathology                              1\n",
       "1999 (first) ISNV Pioneer in NeuroVirology Award                                        1\n",
       "1997 Award for Meritorious Contributions to Neuropathology 1984 AANP President          1\n",
       "FRS                                                                                     1\n",
       "2007 Award for Meritorious Contributions to Neuropathology                              1\n",
       "2005 AANP President                                                                     1\n",
       "Distinguished Professor of Purdue University                                            1\n",
       "NAS 1954, National Medal of Science 1974, Olympic Medal1952                             1\n",
       "E.B. Wilson Medal                                                                       1\n",
       "Royal Medal                                                                             1\n",
       "2008 Award for Meritorious Contributions to Neuropathology                              1\n",
       "2008 Iowa Women of Innovation Award Finalists                                           1\n",
       "Name: award, dtype: int64"
      ]
     },
     "execution_count": 3,
     "metadata": {},
     "output_type": "execute_result"
    }
   ],
   "source": [
    "#read people data\n",
    "people_df = pd.read_csv(\"people_cleaned_0402.tsv\", sep = \"\\t\")\n",
    "people_df['award'].value_counts()"
   ]
  },
  {
   "cell_type": "markdown",
   "metadata": {},
   "source": [
    "We have 125 nobel prize winners in the data set, which I think is a good sign but the column does not specify the field (physiology? medicine?). https://www.nobelprize.org/prizes/lists/all-nobel-prizes/"
   ]
  },
  {
   "cell_type": "code",
   "execution_count": 4,
   "metadata": {
    "scrolled": true
   },
   "outputs": [
    {
     "data": {
      "text/html": [
       "<div>\n",
       "<style>\n",
       "    .dataframe thead tr:only-child th {\n",
       "        text-align: right;\n",
       "    }\n",
       "\n",
       "    .dataframe thead th {\n",
       "        text-align: left;\n",
       "    }\n",
       "\n",
       "    .dataframe tbody tr th {\n",
       "        vertical-align: top;\n",
       "    }\n",
       "</style>\n",
       "<table border=\"1\" class=\"dataframe\">\n",
       "  <thead>\n",
       "    <tr style=\"text-align: right;\">\n",
       "      <th></th>\n",
       "      <th>Unnamed: 0</th>\n",
       "      <th>cid</th>\n",
       "      <th>pid1</th>\n",
       "      <th>pid2</th>\n",
       "      <th>relation</th>\n",
       "      <th>location</th>\n",
       "      <th>locid</th>\n",
       "      <th>department</th>\n",
       "      <th>startdate</th>\n",
       "      <th>stopdate</th>\n",
       "      <th>addedby</th>\n",
       "      <th>dateadded</th>\n",
       "    </tr>\n",
       "  </thead>\n",
       "  <tbody>\n",
       "    <tr>\n",
       "      <th>0</th>\n",
       "      <td>0</td>\n",
       "      <td>2</td>\n",
       "      <td>2</td>\n",
       "      <td>3</td>\n",
       "      <td>1</td>\n",
       "      <td>university of california, berkeley</td>\n",
       "      <td>312</td>\n",
       "      <td>-9</td>\n",
       "      <td>2000-00-00</td>\n",
       "      <td>2005-00-00</td>\n",
       "      <td>david</td>\n",
       "      <td>2005-01-15 17:33:57</td>\n",
       "    </tr>\n",
       "    <tr>\n",
       "      <th>1</th>\n",
       "      <td>1</td>\n",
       "      <td>3</td>\n",
       "      <td>4</td>\n",
       "      <td>3</td>\n",
       "      <td>2</td>\n",
       "      <td>university of california, berkeley</td>\n",
       "      <td>312</td>\n",
       "      <td>-9</td>\n",
       "      <td>2003-00-00</td>\n",
       "      <td>2006-00-00</td>\n",
       "      <td>david</td>\n",
       "      <td>2005-01-15 17:35:17</td>\n",
       "    </tr>\n",
       "    <tr>\n",
       "      <th>2</th>\n",
       "      <td>2</td>\n",
       "      <td>5</td>\n",
       "      <td>6</td>\n",
       "      <td>3</td>\n",
       "      <td>1</td>\n",
       "      <td>university of california, berkeley</td>\n",
       "      <td>312</td>\n",
       "      <td>-9</td>\n",
       "      <td>2002-00-00</td>\n",
       "      <td>2008-00-00</td>\n",
       "      <td>david</td>\n",
       "      <td>2005-01-15 19:02:54</td>\n",
       "    </tr>\n",
       "    <tr>\n",
       "      <th>3</th>\n",
       "      <td>3</td>\n",
       "      <td>6</td>\n",
       "      <td>18761</td>\n",
       "      <td>9</td>\n",
       "      <td>1</td>\n",
       "      <td>university of california, berkeley</td>\n",
       "      <td>312</td>\n",
       "      <td>-9</td>\n",
       "      <td>0000-00-00</td>\n",
       "      <td>1984-00-00</td>\n",
       "      <td>david</td>\n",
       "      <td>2005-01-15 19:06:16</td>\n",
       "    </tr>\n",
       "    <tr>\n",
       "      <th>4</th>\n",
       "      <td>4</td>\n",
       "      <td>7</td>\n",
       "      <td>10</td>\n",
       "      <td>16</td>\n",
       "      <td>2</td>\n",
       "      <td>washington university, saint louis</td>\n",
       "      <td>497</td>\n",
       "      <td>-9</td>\n",
       "      <td>0000-00-00</td>\n",
       "      <td>0000-00-00</td>\n",
       "      <td>david</td>\n",
       "      <td>2005-01-15 19:06:58</td>\n",
       "    </tr>\n",
       "    <tr>\n",
       "      <th>5</th>\n",
       "      <td>5</td>\n",
       "      <td>8</td>\n",
       "      <td>3</td>\n",
       "      <td>16</td>\n",
       "      <td>2</td>\n",
       "      <td>washington university, saint louis</td>\n",
       "      <td>497</td>\n",
       "      <td>-9</td>\n",
       "      <td>0000-00-00</td>\n",
       "      <td>0000-00-00</td>\n",
       "      <td>david</td>\n",
       "      <td>2005-01-15 19:07:44</td>\n",
       "    </tr>\n",
       "    <tr>\n",
       "      <th>6</th>\n",
       "      <td>6</td>\n",
       "      <td>9</td>\n",
       "      <td>3</td>\n",
       "      <td>26</td>\n",
       "      <td>1</td>\n",
       "      <td>yale university</td>\n",
       "      <td>507</td>\n",
       "      <td>-9</td>\n",
       "      <td>0000-00-00</td>\n",
       "      <td>0000-00-00</td>\n",
       "      <td>david</td>\n",
       "      <td>2005-01-15 19:09:19</td>\n",
       "    </tr>\n",
       "    <tr>\n",
       "      <th>7</th>\n",
       "      <td>7</td>\n",
       "      <td>10</td>\n",
       "      <td>11</td>\n",
       "      <td>10</td>\n",
       "      <td>1</td>\n",
       "      <td>johns hopkins university</td>\n",
       "      <td>117</td>\n",
       "      <td>-9</td>\n",
       "      <td>0000-00-00</td>\n",
       "      <td>2006-00-00</td>\n",
       "      <td>david</td>\n",
       "      <td>2015-09-11 16:05:34</td>\n",
       "    </tr>\n",
       "    <tr>\n",
       "      <th>8</th>\n",
       "      <td>8</td>\n",
       "      <td>11</td>\n",
       "      <td>12</td>\n",
       "      <td>10</td>\n",
       "      <td>1</td>\n",
       "      <td>johns hopkins university</td>\n",
       "      <td>117</td>\n",
       "      <td>-9</td>\n",
       "      <td>0000-00-00</td>\n",
       "      <td>2004-00-00</td>\n",
       "      <td>david</td>\n",
       "      <td>2015-09-11 16:05:28</td>\n",
       "    </tr>\n",
       "    <tr>\n",
       "      <th>9</th>\n",
       "      <td>9</td>\n",
       "      <td>12</td>\n",
       "      <td>13</td>\n",
       "      <td>10</td>\n",
       "      <td>1</td>\n",
       "      <td>johns hopkins university</td>\n",
       "      <td>117</td>\n",
       "      <td>-9</td>\n",
       "      <td>0000-00-00</td>\n",
       "      <td>2001-00-00</td>\n",
       "      <td>david</td>\n",
       "      <td>2015-09-11 16:05:21</td>\n",
       "    </tr>\n",
       "  </tbody>\n",
       "</table>\n",
       "</div>"
      ],
      "text/plain": [
       "   Unnamed: 0  cid   pid1  pid2  relation                            location  \\\n",
       "0           0    2      2     3         1  university of california, berkeley   \n",
       "1           1    3      4     3         2  university of california, berkeley   \n",
       "2           2    5      6     3         1  university of california, berkeley   \n",
       "3           3    6  18761     9         1  university of california, berkeley   \n",
       "4           4    7     10    16         2  washington university, saint louis   \n",
       "5           5    8      3    16         2  washington university, saint louis   \n",
       "6           6    9      3    26         1                     yale university   \n",
       "7           7   10     11    10         1            johns hopkins university   \n",
       "8           8   11     12    10         1            johns hopkins university   \n",
       "9           9   12     13    10         1            johns hopkins university   \n",
       "\n",
       "  locid department   startdate    stopdate addedby            dateadded  \n",
       "0   312         -9  2000-00-00  2005-00-00   david  2005-01-15 17:33:57  \n",
       "1   312         -9  2003-00-00  2006-00-00   david  2005-01-15 17:35:17  \n",
       "2   312         -9  2002-00-00  2008-00-00   david  2005-01-15 19:02:54  \n",
       "3   312         -9  0000-00-00  1984-00-00   david  2005-01-15 19:06:16  \n",
       "4   497         -9  0000-00-00  0000-00-00   david  2005-01-15 19:06:58  \n",
       "5   497         -9  0000-00-00  0000-00-00   david  2005-01-15 19:07:44  \n",
       "6   507         -9  0000-00-00  0000-00-00   david  2005-01-15 19:09:19  \n",
       "7   117         -9  0000-00-00  2006-00-00   david  2015-09-11 16:05:34  \n",
       "8   117         -9  0000-00-00  2004-00-00   david  2015-09-11 16:05:28  \n",
       "9   117         -9  0000-00-00  2001-00-00   david  2015-09-11 16:05:21  "
      ]
     },
     "execution_count": 4,
     "metadata": {},
     "output_type": "execute_result"
    }
   ],
   "source": [
    "#read relation data\n",
    "rel_df = pd.read_csv(\"relation_cleaned_0402.tsv\", sep='\\t')\n",
    "rel_df.head(10)"
   ]
  },
  {
   "cell_type": "markdown",
   "metadata": {},
   "source": [
    "Here I make a frequency table for the pairs of startdate - stopdate. something looks like 2 by 2 tables according to whether the cell is a missing (= \"0000-00-00\") or not \n",
    "\n",
    "|      |   | Start | Date |\n",
    "|------|---|-------|------|\n",
    "|      |   |   O   |   X  |\n",
    "| Stop  | O |       |      |\n",
    "| Date | X |       |      |"
   ]
  },
  {
   "cell_type": "code",
   "execution_count": 6,
   "metadata": {},
   "outputs": [
    {
     "data": {
      "text/html": [
       "<div>\n",
       "<style>\n",
       "    .dataframe thead tr:only-child th {\n",
       "        text-align: right;\n",
       "    }\n",
       "\n",
       "    .dataframe thead th {\n",
       "        text-align: left;\n",
       "    }\n",
       "\n",
       "    .dataframe tbody tr th {\n",
       "        vertical-align: top;\n",
       "    }\n",
       "</style>\n",
       "<table border=\"1\" class=\"dataframe\">\n",
       "  <thead>\n",
       "    <tr style=\"text-align: right;\">\n",
       "      <th>stop_missing</th>\n",
       "      <th>exist</th>\n",
       "      <th>missing</th>\n",
       "      <th>All</th>\n",
       "    </tr>\n",
       "    <tr>\n",
       "      <th>start_missing</th>\n",
       "      <th></th>\n",
       "      <th></th>\n",
       "      <th></th>\n",
       "    </tr>\n",
       "  </thead>\n",
       "  <tbody>\n",
       "    <tr>\n",
       "      <th>exist</th>\n",
       "      <td>0.143518</td>\n",
       "      <td>0.057186</td>\n",
       "      <td>0.200704</td>\n",
       "    </tr>\n",
       "    <tr>\n",
       "      <th>missing</th>\n",
       "      <td>0.380952</td>\n",
       "      <td>0.418345</td>\n",
       "      <td>0.799296</td>\n",
       "    </tr>\n",
       "    <tr>\n",
       "      <th>All</th>\n",
       "      <td>0.524469</td>\n",
       "      <td>0.475531</td>\n",
       "      <td>1.000000</td>\n",
       "    </tr>\n",
       "  </tbody>\n",
       "</table>\n",
       "</div>"
      ],
      "text/plain": [
       "stop_missing      exist   missing       All\n",
       "start_missing                              \n",
       "exist          0.143518  0.057186  0.200704\n",
       "missing        0.380952  0.418345  0.799296\n",
       "All            0.524469  0.475531  1.000000"
      ]
     },
     "execution_count": 6,
     "metadata": {},
     "output_type": "execute_result"
    }
   ],
   "source": [
    "rel_df['start_missing'] = np.where(rel_df['startdate'] == \"0000-00-00\", \"missing\", \"exist\")\n",
    "rel_df['stop_missing'] = np.where(rel_df['stopdate'] == \"0000-00-00\", \"missing\", \"exist\")\n",
    "rel_df[['start_missing', 'stop_missing']].head(20)\n",
    "\n",
    "pd.crosstab(rel_df.start_missing, rel_df.stop_missing,  margins=True, normalize = True)"
   ]
  },
  {
   "cell_type": "markdown",
   "metadata": {},
   "source": [
    "Lots of cells are missing.... but 52% entries have stopdate at least.. only 14% entries have the both start and the end date. The imputation should be one of the main objectives of preprocessing."
   ]
  },
  {
   "cell_type": "code",
   "execution_count": 11,
   "metadata": {},
   "outputs": [
    {
     "name": "stdout",
     "output_type": "stream",
     "text": [
      "12025\n",
      "11948\n"
     ]
    }
   ],
   "source": [
    "# couting department and location from relation data \n",
    "\n",
    "rel_loc_id = rel_df['locid'].value_counts()\n",
    "rel_loc_str = rel_df['location'].value_counts()\n",
    "print(len(rel_loc_id))\n",
    "print(len(rel_loc_str))"
   ]
  },
  {
   "cell_type": "markdown",
   "metadata": {},
   "source": [
    "Some discrepancies between the location string and locid but it does not appear serious as one we saw in people data. And more than 12,000 institutions are identified from the relation data. I think some types of filtering is required later, defintely..."
   ]
  },
  {
   "cell_type": "code",
   "execution_count": 18,
   "metadata": {},
   "outputs": [
    {
     "data": {
      "text/plain": [
       "-9                                               0.035818\n",
       "university of california, los angeles            0.012440\n",
       "stanford university                              0.012031\n",
       "harvard university                               0.011082\n",
       "university of california, berkeley               0.010861\n",
       "columbia university                              0.010717\n",
       "university of california, san diego              0.010382\n",
       "capella university                               0.009771\n",
       "university of pennsylvania                       0.009617\n",
       "university of michigan, ann arbor                0.009529\n",
       "yale university                                  0.008627\n",
       "university of wisconsin, madison                 0.008487\n",
       "new york university                              0.008483\n",
       "northwestern university                          0.008373\n",
       "university of minnesota, twin cities             0.008281\n",
       "university of washington, seattle                0.008042\n",
       "johns hopkins university                         0.007861\n",
       "university of texas at austin                    0.007431\n",
       "massachusetts institute of technology            0.007346\n",
       "university of california, san francisco          0.007103\n",
       "university of southern california                0.007103\n",
       "university of north carolina, chapel hill        0.007044\n",
       "university of toronto                            0.006879\n",
       "university of florida, gainesville               0.006857\n",
       "walden university                                0.006706\n",
       "duke university                                  0.006533\n",
       "city university of new york                      0.006511\n",
       "university of chicago                            0.006367\n",
       "boston university                                0.006253\n",
       "university of pittsburgh                         0.006165\n",
       "indiana university, bloomington                  0.006003\n",
       "mcgill university                                0.005837\n",
       "university of illinois, urbana-champaign         0.005620\n",
       "washington university, saint louis               0.005583\n",
       "university of california, davis                  0.005473\n",
       "university of california, irvine                 0.005318\n",
       "vanderbilt university                            0.005267\n",
       "university of maryland, college park             0.005263\n",
       "alliant international university                 0.005178\n",
       "university college london                        0.005149\n",
       "pennsylvania state university                    0.005009\n",
       "emory university                                 0.004862\n",
       "university of oxford                             0.004715\n",
       "california institute of technology               0.004704\n",
       "ohio state university, columbus                  0.004652\n",
       "harvard medical school                           0.004601\n",
       "university of iowa                               0.004575\n",
       "the chicago school of professional psychology    0.004350\n",
       "university of virginia                           0.004336\n",
       "cornell university                               0.004299\n",
       "Name: location, dtype: float64"
      ]
     },
     "execution_count": 18,
     "metadata": {},
     "output_type": "execute_result"
    }
   ],
   "source": [
    "rel_loc_str.head(50)"
   ]
  },
  {
   "cell_type": "markdown",
   "metadata": {},
   "source": [
    "capella university\" seems interesting case? which is a for-profit school.?? walden university? But generally it looks like the list of top 50 schools are part of the list of R1 universities. "
   ]
  },
  {
   "cell_type": "code",
   "execution_count": 16,
   "metadata": {
    "collapsed": true
   },
   "outputs": [],
   "source": [
    "rel_loc_id = rel_df['locid'].value_counts(normalize = True)\n",
    "rel_loc_str = rel_df['location'].value_counts(normalize = True)"
   ]
  },
  {
   "cell_type": "code",
   "execution_count": 17,
   "metadata": {},
   "outputs": [
    {
     "data": {
      "text/plain": [
       "1      0.035810\n",
       "315    0.012440\n",
       "277    0.012031\n",
       "86     0.011082\n",
       "312    0.010861\n",
       "Name: locid, dtype: float64"
      ]
     },
     "execution_count": 17,
     "metadata": {},
     "output_type": "execute_result"
    }
   ],
   "source": [
    "rel_loc_id.head()"
   ]
  },
  {
   "cell_type": "markdown",
   "metadata": {},
   "source": [
    "In terms of proportion, the difference seems less substantial but some filtering might change the distribution later."
   ]
  },
  {
   "cell_type": "code",
   "execution_count": 19,
   "metadata": {},
   "outputs": [
    {
     "data": {
      "text/plain": [
       "-9                                                                         193390\n",
       "Psychology                                                                  18780\n",
       "Neuroscience                                                                 3526\n",
       "Clinical Psychology                                                          2331\n",
       "Biology                                                                      1521\n",
       "Neurosurgery                                                                 1025\n",
       "Neurology                                                                     972\n",
       "School of Psychology                                                          972\n",
       "Neurobiology                                                                  898\n",
       "Psychiatry                                                                    807\n",
       "Physiology                                                                    748\n",
       "Harold Abel School of Social and Behavioral Sciences                          742\n",
       "Pharmacology                                                                  741\n",
       "Educational Psychology                                                        679\n",
       "Biomedical Engineering                                                        678\n",
       "Counseling Psychology                                                         644\n",
       "Biological Sciences                                                           589\n",
       "Pathology                                                                     579\n",
       "Department of Psychology                                                      492\n",
       "Physics                                                                       446\n",
       "Professional Psychology                                                       431\n",
       "Neurosciences                                                                 421\n",
       "Computer Science                                                              409\n",
       "School Psychology                                                             351\n",
       "Biomedical Sciences                                                           334\n",
       "Los Angeles, CSPP                                                             330\n",
       "Chemistry                                                                     319\n",
       "Bioengineering                                                                318\n",
       "Psychological Sciences                                                        305\n",
       "Linguistics                                                                   279\n",
       "                                                                            ...  \n",
       "Institute for Biology - Neuroinformatics                                        1\n",
       "Laboratory of Anatomy and Physiology, School of Nutritional Sciences            1\n",
       "Department of Obstetrics and Gynecology                                         1\n",
       "Brighton and Sussex Med School                                                  1\n",
       "Institute of genetics                                                           1\n",
       "Department of Pharmacy                                                          1\n",
       "Faculty of Medical Sciences                                                     1\n",
       "College of Science                                                              1\n",
       "Carl-Ludwig-Institute of Physiology                                             1\n",
       "University of California                                                        1\n",
       "Public health and primary care                                                  1\n",
       "Psychiatry, Pediatrics                                                          1\n",
       "Research Center for Advanced Science and Technology - Cognitive Science         1\n",
       "University of Otago                                                             1\n",
       "Genes and Behavior                                                              1\n",
       "Biological Chemistry 0117                                                       1\n",
       "Engineering Design Center                                                       1\n",
       "Emory                                                                           1\n",
       "Facult?de M?ecine                                                               1\n",
       "Neuroscience; Molecular and Intergrative Physiology                             1\n",
       "Medicine and Neurology                                                          1\n",
       "Research and Innovation Centre                                                  1\n",
       "Center for Integrative Neuroscience                                             1\n",
       "Psychology and Logopedics                                                       1\n",
       "Cell Biology & Anatomy, Neurology                                               1\n",
       "Comparative Biology and Experimental Medicine                                   1\n",
       "Center for Medical Physics and Biomedical Engineering                           1\n",
       "Neurovegetative Physiology                                                      1\n",
       "Human Media Interaction, EEMCS                                                  1\n",
       "Department of Cell and Developmental Biology                                    1\n",
       "Name: department, Length: 7460, dtype: int64"
      ]
     },
     "execution_count": 19,
     "metadata": {},
     "output_type": "execute_result"
    }
   ],
   "source": [
    "rel_df['department'].value_counts()"
   ]
  },
  {
   "cell_type": "markdown",
   "metadata": {},
   "source": [
    "Missing value (= -9) dominates. The `department` column might not be informative. "
   ]
  },
  {
   "cell_type": "code",
   "execution_count": 21,
   "metadata": {},
   "outputs": [
    {
     "data": {
      "text/plain": [
       "0    0.489899\n",
       "1    0.370566\n",
       "2    0.097542\n",
       "4    0.031880\n",
       "3    0.010114\n",
       "Name: relation, dtype: float64"
      ]
     },
     "execution_count": 21,
     "metadata": {},
     "output_type": "execute_result"
    }
   ],
   "source": [
    "rel_df['relation'].value_counts(normalize= True)"
   ]
  },
  {
   "cell_type": "markdown",
   "metadata": {},
   "source": [
    "0=undergraduate RA, 1=grad student, 2=postdoc, 3=research scientist, \n",
    "4=collaboration--not a mentor relationship\n",
    "\n",
    "- Some issues \n",
    "    - Is the transition from 0 -> 1 meaningful?\n",
    "    - Does \"4\" mean coauthoring?"
   ]
  },
  {
   "cell_type": "code",
   "execution_count": 25,
   "metadata": {},
   "outputs": [
    {
     "data": {
      "text/html": [
       "<div>\n",
       "<style>\n",
       "    .dataframe thead tr:only-child th {\n",
       "        text-align: right;\n",
       "    }\n",
       "\n",
       "    .dataframe thead th {\n",
       "        text-align: left;\n",
       "    }\n",
       "\n",
       "    .dataframe tbody tr th {\n",
       "        vertical-align: top;\n",
       "    }\n",
       "</style>\n",
       "<table border=\"1\" class=\"dataframe\">\n",
       "  <thead>\n",
       "    <tr style=\"text-align: right;\">\n",
       "      <th></th>\n",
       "      <th>Unnamed: 0</th>\n",
       "      <th>pid</th>\n",
       "      <th>firstname</th>\n",
       "      <th>middlename</th>\n",
       "      <th>lastname</th>\n",
       "      <th>degrees</th>\n",
       "      <th>location</th>\n",
       "      <th>locid</th>\n",
       "      <th>area</th>\n",
       "      <th>majorarea</th>\n",
       "      <th>award</th>\n",
       "      <th>orcid_id</th>\n",
       "      <th>homepage</th>\n",
       "      <th>addedby</th>\n",
       "      <th>dateadded</th>\n",
       "    </tr>\n",
       "  </thead>\n",
       "  <tbody>\n",
       "    <tr>\n",
       "      <th>0</th>\n",
       "      <td>0</td>\n",
       "      <td>1</td>\n",
       "      <td>Stephen</td>\n",
       "      <td>V.</td>\n",
       "      <td>David</td>\n",
       "      <td>Ph.D.</td>\n",
       "      <td>oregon health and science university</td>\n",
       "      <td>226</td>\n",
       "      <td>auditory system, attention</td>\n",
       "      <td>neuro,csd,bme</td>\n",
       "      <td>-9</td>\n",
       "      <td>0000-0003-4135-3104</td>\n",
       "      <td>http://hearingbrain.org/</td>\n",
       "      <td>david</td>\n",
       "      <td>2005-01-14 15:50:37</td>\n",
       "    </tr>\n",
       "    <tr>\n",
       "      <th>1</th>\n",
       "      <td>1</td>\n",
       "      <td>3</td>\n",
       "      <td>Jack</td>\n",
       "      <td>L.</td>\n",
       "      <td>Gallant</td>\n",
       "      <td>-9</td>\n",
       "      <td>university of california, berkeley</td>\n",
       "      <td>312</td>\n",
       "      <td>Systems</td>\n",
       "      <td>neuro,psych</td>\n",
       "      <td>-9</td>\n",
       "      <td>-9</td>\n",
       "      <td>http://gallantlab.org</td>\n",
       "      <td>david</td>\n",
       "      <td>2005-01-14 15:51:51</td>\n",
       "    </tr>\n",
       "    <tr>\n",
       "      <th>2</th>\n",
       "      <td>2</td>\n",
       "      <td>5</td>\n",
       "      <td>Kendrick</td>\n",
       "      <td>Norris</td>\n",
       "      <td>Kay</td>\n",
       "      <td>Ph.D.</td>\n",
       "      <td>university of minnesota, twin cities</td>\n",
       "      <td>406</td>\n",
       "      <td>visual system, fMRI, computational methods, ne...</td>\n",
       "      <td>neuro</td>\n",
       "      <td>-9</td>\n",
       "      <td>-9</td>\n",
       "      <td>http://cvnlab.net</td>\n",
       "      <td>david</td>\n",
       "      <td>2005-01-15 18:20:41</td>\n",
       "    </tr>\n",
       "    <tr>\n",
       "      <th>3</th>\n",
       "      <td>3</td>\n",
       "      <td>6</td>\n",
       "      <td>Ryan</td>\n",
       "      <td>-9</td>\n",
       "      <td>Prenger</td>\n",
       "      <td>-9</td>\n",
       "      <td>lawrence livermore national laboratory</td>\n",
       "      <td>1480</td>\n",
       "      <td>visual system</td>\n",
       "      <td>neuro</td>\n",
       "      <td>-9</td>\n",
       "      <td>-9</td>\n",
       "      <td>-9</td>\n",
       "      <td>david</td>\n",
       "      <td>2005-01-15 18:23:32</td>\n",
       "    </tr>\n",
       "    <tr>\n",
       "      <th>4</th>\n",
       "      <td>4</td>\n",
       "      <td>8</td>\n",
       "      <td>Kathleen</td>\n",
       "      <td>A.</td>\n",
       "      <td>Hansen</td>\n",
       "      <td>-9</td>\n",
       "      <td>national institute of mental health</td>\n",
       "      <td>214</td>\n",
       "      <td>-9</td>\n",
       "      <td>neuro</td>\n",
       "      <td>-9</td>\n",
       "      <td>-9</td>\n",
       "      <td>-9</td>\n",
       "      <td>hayden</td>\n",
       "      <td>2005-01-15 18:38:58</td>\n",
       "    </tr>\n",
       "  </tbody>\n",
       "</table>\n",
       "</div>"
      ],
      "text/plain": [
       "   Unnamed: 0  pid firstname middlename lastname degrees  \\\n",
       "0           0    1   Stephen         V.    David   Ph.D.   \n",
       "1           1    3      Jack         L.  Gallant      -9   \n",
       "2           2    5  Kendrick     Norris      Kay   Ph.D.   \n",
       "3           3    6      Ryan         -9  Prenger      -9   \n",
       "4           4    8  Kathleen         A.   Hansen      -9   \n",
       "\n",
       "                                 location  locid  \\\n",
       "0    oregon health and science university    226   \n",
       "1      university of california, berkeley    312   \n",
       "2    university of minnesota, twin cities    406   \n",
       "3  lawrence livermore national laboratory   1480   \n",
       "4     national institute of mental health    214   \n",
       "\n",
       "                                                area      majorarea award  \\\n",
       "0                         auditory system, attention  neuro,csd,bme    -9   \n",
       "1                                            Systems    neuro,psych    -9   \n",
       "2  visual system, fMRI, computational methods, ne...          neuro    -9   \n",
       "3                                      visual system          neuro    -9   \n",
       "4                                                 -9          neuro    -9   \n",
       "\n",
       "              orcid_id                  homepage addedby            dateadded  \n",
       "0  0000-0003-4135-3104  http://hearingbrain.org/   david  2005-01-14 15:50:37  \n",
       "1                   -9     http://gallantlab.org   david  2005-01-14 15:51:51  \n",
       "2                   -9         http://cvnlab.net   david  2005-01-15 18:20:41  \n",
       "3                   -9                        -9   david  2005-01-15 18:23:32  \n",
       "4                   -9                        -9  hayden  2005-01-15 18:38:58  "
      ]
     },
     "execution_count": 25,
     "metadata": {},
     "output_type": "execute_result"
    }
   ],
   "source": [
    "# counts of a\"area\" and \"majorarea\" in people data \n",
    "people_df.head()"
   ]
  },
  {
   "cell_type": "markdown",
   "metadata": {},
   "source": [
    "We can use comma as a separator to check the distribution of the # of `area` and `majorarea`."
   ]
  },
  {
   "cell_type": "code",
   "execution_count": 36,
   "metadata": {},
   "outputs": [
    {
     "data": {
      "text/plain": [
       "Counter({1: 110229, 2: 10457, 3: 1026, 4: 101, 5: 6, 6: 1, 17: 1})"
      ]
     },
     "execution_count": 36,
     "metadata": {},
     "output_type": "execute_result"
    }
   ],
   "source": [
    "from collections import Counter\n",
    "num_major_area = []\n",
    "major_area_people = people_df['majorarea'].str.split(\",\").values\n",
    "for m in major_area_people:\n",
    "    num_major_area.append(len(m))\n",
    "\n",
    "Counter(num_major_area)"
   ]
  },
  {
   "cell_type": "code",
   "execution_count": 37,
   "metadata": {},
   "outputs": [
    {
     "data": {
      "text/plain": [
       "neuro                                 109797\n",
       "neuro,psych                             2889\n",
       "neuro,phtree                            1413\n",
       "neuro,chemistry                         1401\n",
       "neuro,csd                                703\n",
       "neuro,npath                              593\n",
       "neurosurgery                             371\n",
       "neuro,alzh                               328\n",
       "neuro,anatomy                            240\n",
       "neuro,ling                               233\n",
       "neuro,compbio                            201\n",
       "neuro,physics                            194\n",
       "neuro,bcm                                193\n",
       "neuro,fly                                184\n",
       "neuro,math                               174\n",
       "neuro,ling,csd                           162\n",
       "neuro,mich                               161\n",
       "neuro,physiology                         142\n",
       "neuro,robotics                           129\n",
       "neuro,cellbio                            119\n",
       "neuro,dev                                114\n",
       "neuro,evol                               107\n",
       "chemistry,neuro                           92\n",
       "neuro,phil                                87\n",
       "psych,neuro                               73\n",
       "fly,neuro                                 65\n",
       "neuro,psych,csd                           65\n",
       "neurooncology                             61\n",
       "neuro,biomech,bme                         47\n",
       "neuro,primate                             44\n",
       "                                       ...  \n",
       "genetics,neuro,cellgenetherapy             1\n",
       "psych,mich,neuro                           1\n",
       "neuro,ling,hist,phil                       1\n",
       "neuro,evol,tereco                          1\n",
       "astronomy,neuro                            1\n",
       "chemistry,neuro,math                       1\n",
       "neuro,physics,theology                     1\n",
       "neuro,dev,bcm                              1\n",
       "physics,neuro,psych                        1\n",
       "econ,hist,neuro                            1\n",
       "fly,neuro,compbio                          1\n",
       "neuro,compbio,psych                        1\n",
       "compbio,chemistry,neuro,cellbio            1\n",
       "neuro,math,chemistry                       1\n",
       "fly,neuro,mich                             1\n",
       "neuro,chemistry,dev,physiology             1\n",
       "neuro,psych,robotics                       1\n",
       "neuro,chemistry,genetics,bcm               1\n",
       "neuro,math,compbio,csd                     1\n",
       "neuro,npath,cellgenetherapy                1\n",
       "neuro,physics,phil,theology                1\n",
       "neuro,chemistry,anatomy,physiology         1\n",
       "fly,cellbio,chemistry,neuro                1\n",
       "cellgenetherapy,neuro                      1\n",
       "neuro,ling,primate,evol                    1\n",
       "neuro,neurosurgery                         1\n",
       "phil,neuro,ling                            1\n",
       "evol,fly,neuro                             1\n",
       "robotics,neuro                             1\n",
       "neuro,phil,ling                            1\n",
       "Name: majorarea, Length: 425, dtype: int64"
      ]
     },
     "execution_count": 37,
     "metadata": {},
     "output_type": "execute_result"
    }
   ],
   "source": [
    "people_df['majorarea'].value_counts()"
   ]
  },
  {
   "cell_type": "markdown",
   "metadata": {},
   "source": [
    "In the initial filtering, I selected individuals when `majorarea` contain `neuro`. So it is not surprising `neuro` takes up the majority. But there seems some interesting combinations such as `neuro, psych, robotics` and `astronomy, neuro`. However, I think publication records of individuals should be more accurate.."
   ]
  },
  {
   "cell_type": "code",
   "execution_count": 54,
   "metadata": {},
   "outputs": [
    {
     "data": {
      "text/plain": [
       "([0, 1, 2, 3, 4, 5, 6, 7, 8, 9, 10, 11, 12, 13],\n",
       " <a list of 14 Text xticklabel objects>)"
      ]
     },
     "execution_count": 54,
     "metadata": {},
     "output_type": "execute_result"
    },
    {
     "data": {
      "image/png": "[encoded data removed]",
      "text/plain": [
       "<Figure size 432x288 with 1 Axes>"
      ]
     },
     "metadata": {},
     "output_type": "display_data"
    }
   ],
   "source": [
    "plt.plot(people_df['majorarea'].value_counts()[1:15])\n",
    "plt.xticks(rotation = 45)"
   ]
  },
  {
   "cell_type": "markdown",
   "metadata": {},
   "source": [
    "What is phtree??"
   ]
  },
  {
   "cell_type": "code",
   "execution_count": 56,
   "metadata": {},
   "outputs": [
    {
     "data": {
      "text/plain": [
       "Counter({1: 66724,\n",
       "         2: 25720,\n",
       "         3: 20266,\n",
       "         4: 6202,\n",
       "         5: 1818,\n",
       "         6: 624,\n",
       "         7: 222,\n",
       "         8: 104,\n",
       "         9: 62,\n",
       "         10: 44,\n",
       "         11: 16,\n",
       "         12: 9,\n",
       "         13: 7,\n",
       "         14: 1,\n",
       "         16: 1,\n",
       "         19: 1})"
      ]
     },
     "execution_count": 56,
     "metadata": {},
     "output_type": "execute_result"
    }
   ],
   "source": [
    "num_spec_area = []\n",
    "spec_area_people = people_df['area'].str.lower().str.split(\",\").values\n",
    "for m in spec_area_people:\n",
    "    num_spec_area.append(len(m))\n",
    "\n",
    "Counter(num_spec_area)"
   ]
  },
  {
   "cell_type": "code",
   "execution_count": 60,
   "metadata": {},
   "outputs": [
    {
     "data": {
      "text/plain": [
       "-9                                                                                                         0.276\n",
       "Clinical Psychology                                                                                        0.031\n",
       "Neuroscience Biology                                                                                       0.010\n",
       "Social Psychology                                                                                          0.005\n",
       "Neuroscience                                                                                               0.004\n",
       "Clinical Psychology, Social Psychology                                                                     0.004\n",
       "Clinical Psychology, Developmental Psychology                                                              0.004\n",
       "Developmental Psychology                                                                                   0.004\n",
       "Industrial Psychology                                                                                      0.004\n",
       "Cognitive Psychology                                                                                       0.003\n",
       "Clinical Psychology, Mental Health                                                                         0.003\n",
       "Clinical Psychology, Psychometrics Psychology                                                              0.002\n",
       "Visual system                                                                                              0.002\n",
       "Clinical Psychology, Behavioral Psychology                                                                 0.002\n",
       "Educational Psychology Education                                                                           0.002\n",
       "Management Business Administration, Industrial Psychology                                                  0.002\n",
       "Counseling Psychology                                                                                      0.002\n",
       "Clinical Psychology, Personality Psychology                                                                0.002\n",
       "Clinical Psychology, Women's Studies                                                                       0.002\n",
       "Clinical Psychology, Cognitive Psychology                                                                  0.002\n",
       "Vision                                                                                                     0.002\n",
       "Developmental Psychology, Social Psychology                                                                0.002\n",
       "Behavioral Psychology                                                                                      0.002\n",
       "Clinical Psychology, Criminology and Penology                                                              0.002\n",
       "Psychology                                                                                                 0.002\n",
       "Clinical Psychology, Physiological Psychology                                                              0.001\n",
       "Management Business Administration                                                                         0.001\n",
       "Developmental Psychology, Clinical Psychology                                                              0.001\n",
       "Olfaction                                                                                                  0.001\n",
       "Industrial Psychology, Management Business Administration                                                  0.001\n",
       "                                                                                                           ...  \n",
       "pain, clinical pharmacology, clinical trials, orofacial, dental                                            0.000\n",
       "decision making, non-verbal behavior, mate choice                                                          0.000\n",
       "Tau protein, structure and function                                                                        0.000\n",
       "Oculormotor, Bilogical Cybernetics                                                                         0.000\n",
       "Mechanisms of Programmed Cell Death                                                                        0.000\n",
       "Neuroproteomics, Auditory brainstem, Neurological Autoimmune diseases                                      0.000\n",
       "attention, associative learning, crossmodal plasticity, development, vision, audition, fMRI, adaptation    0.000\n",
       "Memory, Neuroscience, Deja vu, Memory Decision Making                                                      0.000\n",
       "Limbic system, basal forebrain, animals models of anxiety and depression                                   0.000\n",
       "Personality Psychology, Organizational, Industrial Psychology                                              0.000\n",
       "Guidance and Counseling Education, Clinical Psychology, Personality Psychology, Social Psychology          0.000\n",
       "BDNF, TRPC Channels, Hippocampus, MeCP2, Rett Syndrome                                                     0.000\n",
       "Higher Education, Curriculum and Instruction Education, Hispanic American Studies                          0.000\n",
       "Clinical Psychology, Criminology and Penology, Women's Studies, Psychometrics Psychology                   0.000\n",
       "posture, gait                                                                                              0.000\n",
       "Neuroendocrinology, behavior                                                                               0.000\n",
       "Gender Studies, Women's Studies, Recreation, Clinical Psychology                                           0.000\n",
       "Learning and memory; sleep                                                                                 0.000\n",
       "zebrafish, epilepsy, ion channels                                                                          0.000\n",
       "Clinical Psychology, GLBT Studies, Women's Studies, Ethnic and Racial Studies, Mental Health               0.000\n",
       "Limbic System                                                                                              0.000\n",
       "Cognitive Neuroinformatics                                                                                 0.000\n",
       "Sleep and Neuroimaging                                                                                     0.000\n",
       "Psychopharmacology, research design and methodology, social influence, hypnosis                            0.000\n",
       "Kainate receptors, ethanol                                                                                 0.000\n",
       "Epilepsy, neuroimaging                                                                                     0.000\n",
       "neurogenic language disorders, language, prediction, language processing                                   0.000\n",
       "Alzheimer's disease, Parkinson's disease, Drug development                                                 0.000\n",
       "Mental Health, Occupational Health and Safety, Social Psychology                                           0.000\n",
       "regulatory behavior, behavioral pharmacology, behavioral neuroscience, psychology, orthodontics            0.000\n",
       "Name: area, Length: 37040, dtype: float64"
      ]
     },
     "execution_count": 60,
     "metadata": {},
     "output_type": "execute_result"
    }
   ],
   "source": [
    "round(people_df['area'].value_counts(normalize= True), 3)"
   ]
  },
  {
   "cell_type": "markdown",
   "metadata": {},
   "source": [
    "Again, missing value are substantial and.. and there exist 37,040 different combinations. For the purpose of further analysis, I think publication records + disseration topic should be used, rather than using this column."
   ]
  },
  {
   "cell_type": "markdown",
   "metadata": {},
   "source": []
  },
  {
   "cell_type": "markdown",
   "metadata": {},
   "source": []
  }
 ],
 "metadata": {
  "kernelspec": {
   "display_name": "Python 3",
   "language": "python",
   "name": "python3"
  },
  "language_info": {
   "codemirror_mode": {
    "name": "ipython",
    "version": 3
   },
   "file_extension": ".py",
   "mimetype": "text/x-python",
   "name": "python",
   "nbconvert_exporter": "python",
   "pygments_lexer": "ipython3",
   "version": "3.6.1"
  }
 },
 "nbformat": 4,
 "nbformat_minor": 2
}
