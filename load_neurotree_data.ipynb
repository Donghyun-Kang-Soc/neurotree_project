{
 "cells": [
  {
   "cell_type": "code",
   "execution_count": 2,
   "metadata": {},
   "outputs": [],
   "source": [
    "#from gensim.models.poincare import PoincareModel, PoincareKeyedVectors, PoincareRelations\n",
    "import pandas as pd\n",
    "import numpy as np\n",
    "import matplotlib.pyplot as plt\n",
    "#import networkx as nx\n",
    "\n",
    "import time\n",
    "import logging\n",
    "logging.basicConfig(level=logging.INFO)"
   ]
  },
  {
   "cell_type": "code",
   "execution_count": 3,
   "metadata": {},
   "outputs": [],
   "source": [
    "links_data_path = '~/Data/neurotree/neurotree_all_2018-05-06_export_connect.tsv'\n",
    "people_data_path = '~/Data/neurotree/neurotree_all_2018-05-06_export_people.tsv'\n",
    "\n"
   ]
  },
  {
   "cell_type": "code",
   "execution_count": 4,
   "metadata": {},
   "outputs": [
    {
     "name": "stderr",
     "output_type": "stream",
     "text": [
      "/home/brch/anaconda3/envs/networkx-env/lib/python3.7/site-packages/IPython/core/interactiveshell.py:3020: DtypeWarning: Columns (5) have mixed types. Specify dtype option on import or set low_memory=False.\n",
      "  interactivity=interactivity, compiler=compiler, result=result)\n"
     ]
    },
    {
     "name": "stdout",
     "output_type": "stream",
     "text": [
      "cid           1342409\n",
      "pid1          1342409\n",
      "pid2          1342409\n",
      "relation      1342409\n",
      "location      1319038\n",
      "locid         1342409\n",
      "department     541615\n",
      "startdate     1342409\n",
      "stopdate      1342409\n",
      "addedby       1342139\n",
      "dateadded     1342409\n",
      "dtype: int64\n",
      "   cid   pid1  pid2  relation                            location locid  \\\n",
      "0    1      1     3         1  University of California, Berkeley   312   \n",
      "1    2      2     3         1  University of California, Berkeley   312   \n",
      "2    3      4     3         2  University of California, Berkeley   312   \n",
      "3    5      6     3         1  University of California, Berkeley   312   \n",
      "4    6  18761     9         1  University of California, Berkeley   312   \n",
      "\n",
      "  department   startdate    stopdate addedby            dateadded  \n",
      "0        NaN  1998-00-00  2005-00-00   david  2005-01-14 15:50:37  \n",
      "1        NaN  2000-00-00  2005-00-00   david  2005-01-15 17:33:57  \n",
      "2         \\N  2003-00-00  2006-00-00   david  2005-01-15 17:35:17  \n",
      "3        NaN  2002-00-00  2008-00-00   david  2005-01-15 19:02:54  \n",
      "4         \\N  0000-00-00  1984-00-00   david  2005-01-15 19:06:16  \n"
     ]
    }
   ],
   "source": [
    "links_df = pd.read_csv(links_data_path,delimiter='\\t',encoding='latin1')\n",
    "print(links_df.count())  # 1.3 Million\n",
    "print(links_df.head())"
   ]
  },
  {
   "cell_type": "code",
   "execution_count": 5,
   "metadata": {},
   "outputs": [
    {
     "name": "stderr",
     "output_type": "stream",
     "text": [
      "/home/brch/anaconda3/envs/networkx-env/lib/python3.7/site-packages/IPython/core/interactiveshell.py:3020: DtypeWarning: Columns (6) have mixed types. Specify dtype option on import or set low_memory=False.\n",
      "  interactivity=interactivity, compiler=compiler, result=result)\n"
     ]
    },
    {
     "name": "stdout",
     "output_type": "stream",
     "text": [
      "        firstname middlename lastname degrees  \\\n",
      "pid                                             \n",
      "1         Stephen         V.    David   Ph.D.   \n",
      "3            Jack         L.  Gallant     NaN   \n",
      "667145  Christian         T.   Totten   Ph.D.   \n",
      "5        Kendrick     Norris      Kay   Ph.D.   \n",
      "6            Ryan        NaN  Prenger      \\N   \n",
      "\n",
      "                                      location locid  \\\n",
      "pid                                                    \n",
      "1         Oregon Health and Science University   226   \n",
      "3           University of California, Berkeley   312   \n",
      "667145      University of Florida, Gainesville   380   \n",
      "5         University of Minnesota, Twin Cities   406   \n",
      "6       Lawrence Livermore National Laboratory  1480   \n",
      "\n",
      "                                                     area          majorarea  \\\n",
      "pid                                                                            \n",
      "1                              auditory system, attention      neuro,csd,bme   \n",
      "3                                                 Systems        neuro,psych   \n",
      "667145                          Environmental Engineering  etree,environment   \n",
      "5       visual system, fMRI, computational methods, ne...              neuro   \n",
      "6                                           visual system              neuro   \n",
      "\n",
      "       award             orcid_id                  homepage addedby  \\\n",
      "pid                                                                   \n",
      "1        NaN  0000-0003-4135-3104  http://hearingbrain.org/   david   \n",
      "3        NaN                   \\N     http://gallantlab.org   david   \n",
      "667145    \\N                   \\N                       NaN      pq   \n",
      "5        NaN                  NaN         http://cvnlab.net   david   \n",
      "6         \\N                   \\N                       NaN   david   \n",
      "\n",
      "                  dateadded  \n",
      "pid                          \n",
      "1       2005-01-14 15:50:37  \n",
      "3       2005-01-14 15:51:51  \n",
      "667145  2016-07-23 11:14:13  \n",
      "5       2005-01-15 18:20:41  \n",
      "6       2005-01-15 18:23:32  \n",
      "firstname                                  Stephen\n",
      "middlename                                      V.\n",
      "lastname                                     David\n",
      "degrees                                      Ph.D.\n",
      "location      Oregon Health and Science University\n",
      "locid                                          226\n",
      "area                    auditory system, attention\n",
      "majorarea                            neuro,csd,bme\n",
      "award                                          NaN\n",
      "orcid_id                       0000-0003-4135-3104\n",
      "homepage                  http://hearingbrain.org/\n",
      "addedby                                      david\n",
      "dateadded                      2005-01-14 15:50:37\n",
      "Name: 1, dtype: object\n"
     ]
    }
   ],
   "source": [
    "people_df = pd.read_csv(people_data_path,delimiter='\\t',index_col='pid')\n",
    "print(people_df.head())\n",
    "\n",
    "print( people_df.loc[1] )"
   ]
  },
  {
   "cell_type": "code",
   "execution_count": 95,
   "metadata": {},
   "outputs": [
    {
     "name": "stdout",
     "output_type": "stream",
     "text": [
      "firstname     697386\n",
      "middlename    386727\n",
      "lastname      697353\n",
      "degrees       653198\n",
      "location      688725\n",
      "locid         697713\n",
      "area          583338\n",
      "majorarea     697713\n",
      "award         622601\n",
      "orcid_id      659312\n",
      "homepage       38273\n",
      "addedby       697708\n",
      "dateadded     697708\n",
      "dtype: int64\n",
      "seconds elapsed: {(endtime-time)} \n",
      "Stephen V. David\n"
     ]
    }
   ],
   "source": [
    "print(people_df.count()) #700,000\n",
    "\n",
    "start = time.time()\n",
    "\n",
    "people_key = {}\n",
    "for pid,row in people_df.iterrows():\n",
    "    \n",
    "    nameString = ''\n",
    "    \n",
    "    first = row['firstname']\n",
    "    middle = row['middlename']\n",
    "    last = row['lastname']\n",
    "    \n",
    "    if not(pd.isna(first)):\n",
    "        nameString += first\n",
    "        nameString += ' '\n",
    "    if not(pd.isna(middle)):\n",
    "        nameString += middle\n",
    "        nameString += ' '\n",
    "    if not(pd.isna(last)):\n",
    "        nameString += last\n",
    "    \n",
    "    people_key[pid] = nameString\n",
    "    \n",
    "endtime = time.time()\n",
    "print(\"seconds elapsed: {} \".format(endtime-start))\n",
    "    \n",
    "print(people_key[1])"
   ]
  },
  {
   "cell_type": "code",
   "execution_count": null,
   "metadata": {},
   "outputs": [],
   "source": []
  },
  {
   "cell_type": "code",
   "execution_count": null,
   "metadata": {},
   "outputs": [],
   "source": [
    "# pull the list of areas & majorareas (skip this for now)\n",
    "\n",
    "# pull the list of people\n",
    "'''\n",
    "start = time.time()\n",
    "\n",
    "people = {}\n",
    "for pid,row in people_df.iterrows():\n",
    "    firstname = row['firstname']\n",
    "    middle = row['middlename']\n",
    "    last = row['lastname']\n",
    "    \n",
    "    area = row['area']\n",
    "    majorarea = row['majorarea']\n",
    "    orcid = row['orcid_id']\n",
    "    homepage = row['homepage']\n",
    "    \n",
    "    obj = {'pid':pid,'first':firstname, # todo make these fields\n",
    "           'middle':middle,'last':last,\n",
    "           'area':area,'majorarea':majorarea}\n",
    "    \n",
    "endtime = time.time()\n",
    "print(\"seconds elapsed: {} \".format(endtime-start)) # ~5 min\n",
    "'''"
   ]
  },
  {
   "cell_type": "code",
   "execution_count": null,
   "metadata": {},
   "outputs": [],
   "source": []
  },
  {
   "cell_type": "code",
   "execution_count": null,
   "metadata": {},
   "outputs": [],
   "source": []
  },
  {
   "cell_type": "code",
   "execution_count": null,
   "metadata": {},
   "outputs": [],
   "source": []
  },
  {
   "cell_type": "code",
   "execution_count": null,
   "metadata": {},
   "outputs": [],
   "source": []
  },
  {
   "cell_type": "code",
   "execution_count": null,
   "metadata": {},
   "outputs": [],
   "source": []
  },
  {
   "cell_type": "code",
   "execution_count": null,
   "metadata": {},
   "outputs": [],
   "source": []
  }
 ],
 "metadata": {
  "kernelspec": {
   "display_name": "Python 3",
   "language": "python",
   "name": "python3"
  },
  "language_info": {
   "codemirror_mode": {
    "name": "ipython",
    "version": 3
   },
   "file_extension": ".py",
   "mimetype": "text/x-python",
   "name": "python",
   "nbconvert_exporter": "python",
   "pygments_lexer": "ipython3",
   "version": "3.7.1"
  }
 },
 "nbformat": 4,
 "nbformat_minor": 2
}
